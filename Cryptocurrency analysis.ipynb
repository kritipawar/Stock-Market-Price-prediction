{
 "cells": [
  {
   "cell_type": "code",
   "execution_count": 71,
   "metadata": {},
   "outputs": [],
   "source": [
    "import pandas as pd\n",
    "from pandas_datareader import data as web\n",
    "import numpy as np\n",
    "import matplotlib.pyplot as plt\n",
    "%matplotlib inline"
   ]
  },
  {
   "cell_type": "code",
   "execution_count": 85,
   "metadata": {},
   "outputs": [],
   "source": [
    "bitcoin = web.DataReader('BTCUSD=X', data_source = 'yahoo', start = '01/01/2012', end = '09/15/2017')"
   ]
  },
  {
   "cell_type": "code",
   "execution_count": 86,
   "metadata": {},
   "outputs": [
    {
     "data": {
      "text/html": [
       "<div>\n",
       "<style>\n",
       "    .dataframe thead tr:only-child th {\n",
       "        text-align: right;\n",
       "    }\n",
       "\n",
       "    .dataframe thead th {\n",
       "        text-align: left;\n",
       "    }\n",
       "\n",
       "    .dataframe tbody tr th {\n",
       "        vertical-align: top;\n",
       "    }\n",
       "</style>\n",
       "<table border=\"1\" class=\"dataframe\">\n",
       "  <thead>\n",
       "    <tr style=\"text-align: right;\">\n",
       "      <th></th>\n",
       "      <th>Open</th>\n",
       "      <th>High</th>\n",
       "      <th>Low</th>\n",
       "      <th>Close</th>\n",
       "      <th>Adj Close</th>\n",
       "      <th>Volume</th>\n",
       "    </tr>\n",
       "    <tr>\n",
       "      <th>Date</th>\n",
       "      <th></th>\n",
       "      <th></th>\n",
       "      <th></th>\n",
       "      <th></th>\n",
       "      <th></th>\n",
       "      <th></th>\n",
       "    </tr>\n",
       "  </thead>\n",
       "  <tbody>\n",
       "    <tr>\n",
       "      <th>2017-09-10</th>\n",
       "      <td>4329.004395</td>\n",
       "      <td>4347.826172</td>\n",
       "      <td>4201.680664</td>\n",
       "      <td>4219.409180</td>\n",
       "      <td>4219.409180</td>\n",
       "      <td>0.0</td>\n",
       "    </tr>\n",
       "    <tr>\n",
       "      <th>2017-09-11</th>\n",
       "      <td>4184.100586</td>\n",
       "      <td>4184.100586</td>\n",
       "      <td>4149.377441</td>\n",
       "      <td>4166.666992</td>\n",
       "      <td>4166.666992</td>\n",
       "      <td>0.0</td>\n",
       "    </tr>\n",
       "    <tr>\n",
       "      <th>2017-09-12</th>\n",
       "      <td>3921.568848</td>\n",
       "      <td>3921.568848</td>\n",
       "      <td>3861.003906</td>\n",
       "      <td>3875.969238</td>\n",
       "      <td>3875.969238</td>\n",
       "      <td>0.0</td>\n",
       "    </tr>\n",
       "    <tr>\n",
       "      <th>2017-09-13</th>\n",
       "      <td>3311.258301</td>\n",
       "      <td>3322.259277</td>\n",
       "      <td>3236.246094</td>\n",
       "      <td>3236.246094</td>\n",
       "      <td>3236.246094</td>\n",
       "      <td>0.0</td>\n",
       "    </tr>\n",
       "    <tr>\n",
       "      <th>2017-09-14</th>\n",
       "      <td>3311.258301</td>\n",
       "      <td>3460.207764</td>\n",
       "      <td>3058.104004</td>\n",
       "      <td>3058.104004</td>\n",
       "      <td>3058.104004</td>\n",
       "      <td>0.0</td>\n",
       "    </tr>\n",
       "  </tbody>\n",
       "</table>\n",
       "</div>"
      ],
      "text/plain": [
       "                   Open         High          Low        Close    Adj Close  \\\n",
       "Date                                                                          \n",
       "2017-09-10  4329.004395  4347.826172  4201.680664  4219.409180  4219.409180   \n",
       "2017-09-11  4184.100586  4184.100586  4149.377441  4166.666992  4166.666992   \n",
       "2017-09-12  3921.568848  3921.568848  3861.003906  3875.969238  3875.969238   \n",
       "2017-09-13  3311.258301  3322.259277  3236.246094  3236.246094  3236.246094   \n",
       "2017-09-14  3311.258301  3460.207764  3058.104004  3058.104004  3058.104004   \n",
       "\n",
       "            Volume  \n",
       "Date                \n",
       "2017-09-10     0.0  \n",
       "2017-09-11     0.0  \n",
       "2017-09-12     0.0  \n",
       "2017-09-13     0.0  \n",
       "2017-09-14     0.0  "
      ]
     },
     "execution_count": 86,
     "metadata": {},
     "output_type": "execute_result"
    }
   ],
   "source": [
    "bitcoin.tail()\n",
    "        "
   ]
  },
  {
   "cell_type": "code",
   "execution_count": 87,
   "metadata": {
    "collapsed": true
   },
   "outputs": [],
   "source": [
    "bitcoin['Ticks'] = range(0,len(bitcoin.index.values))"
   ]
  },
  {
   "cell_type": "code",
   "execution_count": 88,
   "metadata": {},
   "outputs": [
    {
     "data": {
      "text/html": [
       "<div>\n",
       "<style>\n",
       "    .dataframe thead tr:only-child th {\n",
       "        text-align: right;\n",
       "    }\n",
       "\n",
       "    .dataframe thead th {\n",
       "        text-align: left;\n",
       "    }\n",
       "\n",
       "    .dataframe tbody tr th {\n",
       "        vertical-align: top;\n",
       "    }\n",
       "</style>\n",
       "<table border=\"1\" class=\"dataframe\">\n",
       "  <thead>\n",
       "    <tr style=\"text-align: right;\">\n",
       "      <th></th>\n",
       "      <th>Open</th>\n",
       "      <th>High</th>\n",
       "      <th>Low</th>\n",
       "      <th>Close</th>\n",
       "      <th>Adj Close</th>\n",
       "      <th>Volume</th>\n",
       "      <th>Ticks</th>\n",
       "    </tr>\n",
       "    <tr>\n",
       "      <th>Date</th>\n",
       "      <th></th>\n",
       "      <th></th>\n",
       "      <th></th>\n",
       "      <th></th>\n",
       "      <th></th>\n",
       "      <th></th>\n",
       "      <th></th>\n",
       "    </tr>\n",
       "  </thead>\n",
       "  <tbody>\n",
       "    <tr>\n",
       "      <th>2017-09-10</th>\n",
       "      <td>4329.004395</td>\n",
       "      <td>4347.826172</td>\n",
       "      <td>4201.680664</td>\n",
       "      <td>4219.409180</td>\n",
       "      <td>4219.409180</td>\n",
       "      <td>0.0</td>\n",
       "      <td>672</td>\n",
       "    </tr>\n",
       "    <tr>\n",
       "      <th>2017-09-11</th>\n",
       "      <td>4184.100586</td>\n",
       "      <td>4184.100586</td>\n",
       "      <td>4149.377441</td>\n",
       "      <td>4166.666992</td>\n",
       "      <td>4166.666992</td>\n",
       "      <td>0.0</td>\n",
       "      <td>673</td>\n",
       "    </tr>\n",
       "    <tr>\n",
       "      <th>2017-09-12</th>\n",
       "      <td>3921.568848</td>\n",
       "      <td>3921.568848</td>\n",
       "      <td>3861.003906</td>\n",
       "      <td>3875.969238</td>\n",
       "      <td>3875.969238</td>\n",
       "      <td>0.0</td>\n",
       "      <td>674</td>\n",
       "    </tr>\n",
       "    <tr>\n",
       "      <th>2017-09-13</th>\n",
       "      <td>3311.258301</td>\n",
       "      <td>3322.259277</td>\n",
       "      <td>3236.246094</td>\n",
       "      <td>3236.246094</td>\n",
       "      <td>3236.246094</td>\n",
       "      <td>0.0</td>\n",
       "      <td>675</td>\n",
       "    </tr>\n",
       "    <tr>\n",
       "      <th>2017-09-14</th>\n",
       "      <td>3311.258301</td>\n",
       "      <td>3460.207764</td>\n",
       "      <td>3058.104004</td>\n",
       "      <td>3058.104004</td>\n",
       "      <td>3058.104004</td>\n",
       "      <td>0.0</td>\n",
       "      <td>676</td>\n",
       "    </tr>\n",
       "  </tbody>\n",
       "</table>\n",
       "</div>"
      ],
      "text/plain": [
       "                   Open         High          Low        Close    Adj Close  \\\n",
       "Date                                                                          \n",
       "2017-09-10  4329.004395  4347.826172  4201.680664  4219.409180  4219.409180   \n",
       "2017-09-11  4184.100586  4184.100586  4149.377441  4166.666992  4166.666992   \n",
       "2017-09-12  3921.568848  3921.568848  3861.003906  3875.969238  3875.969238   \n",
       "2017-09-13  3311.258301  3322.259277  3236.246094  3236.246094  3236.246094   \n",
       "2017-09-14  3311.258301  3460.207764  3058.104004  3058.104004  3058.104004   \n",
       "\n",
       "            Volume  Ticks  \n",
       "Date                       \n",
       "2017-09-10     0.0    672  \n",
       "2017-09-11     0.0    673  \n",
       "2017-09-12     0.0    674  \n",
       "2017-09-13     0.0    675  \n",
       "2017-09-14     0.0    676  "
      ]
     },
     "execution_count": 88,
     "metadata": {},
     "output_type": "execute_result"
    }
   ],
   "source": [
    "bitcoin.tail()\n"
   ]
  },
  {
   "cell_type": "code",
   "execution_count": 89,
   "metadata": {},
   "outputs": [
    {
     "data": {
      "text/plain": [
       "[<matplotlib.lines.Line2D at 0x1f219060f28>]"
      ]
     },
     "execution_count": 89,
     "metadata": {},
     "output_type": "execute_result"
    },
    {
     "data": {
      "image/png": "[encoded data removed]",
      "text/plain": [
       "<matplotlib.figure.Figure at 0x1f21a9d3a20>"
      ]
     },
     "metadata": {},
     "output_type": "display_data"
    }
   ],
   "source": [
    "fig = plt.figure(1)\n",
    "ax1 = fig.add_subplot(111)\n",
    "ax1.set_xlabel('Ticks')\n",
    "ax1.set_ylabel('Close')\n",
    "ax1.set_title('Original Plot')\n",
    "ax1.plot('Ticks', 'Close', data = bitcoin)"
   ]
  },
  {
   "cell_type": "code",
   "execution_count": 90,
   "metadata": {},
   "outputs": [],
   "source": [
    "onetenth = bitcoin.sample(frac = .1, random_state=np.random.randint(10))"
   ]
  },
  {
   "cell_type": "code",
   "execution_count": 91,
   "metadata": {},
   "outputs": [
    {
     "data": {
      "text/html": [
       "<div>\n",
       "<style>\n",
       "    .dataframe thead tr:only-child th {\n",
       "        text-align: right;\n",
       "    }\n",
       "\n",
       "    .dataframe thead th {\n",
       "        text-align: left;\n",
       "    }\n",
       "\n",
       "    .dataframe tbody tr th {\n",
       "        vertical-align: top;\n",
       "    }\n",
       "</style>\n",
       "<table border=\"1\" class=\"dataframe\">\n",
       "  <thead>\n",
       "    <tr style=\"text-align: right;\">\n",
       "      <th></th>\n",
       "      <th>Open</th>\n",
       "      <th>High</th>\n",
       "      <th>Low</th>\n",
       "      <th>Close</th>\n",
       "      <th>Adj Close</th>\n",
       "      <th>Volume</th>\n",
       "      <th>Ticks</th>\n",
       "    </tr>\n",
       "    <tr>\n",
       "      <th>Date</th>\n",
       "      <th></th>\n",
       "      <th></th>\n",
       "      <th></th>\n",
       "      <th></th>\n",
       "      <th></th>\n",
       "      <th></th>\n",
       "      <th></th>\n",
       "    </tr>\n",
       "  </thead>\n",
       "  <tbody>\n",
       "    <tr>\n",
       "      <th>2016-04-20</th>\n",
       "      <td>NaN</td>\n",
       "      <td>NaN</td>\n",
       "      <td>NaN</td>\n",
       "      <td>NaN</td>\n",
       "      <td>NaN</td>\n",
       "      <td>NaN</td>\n",
       "      <td>310</td>\n",
       "    </tr>\n",
       "    <tr>\n",
       "      <th>2017-05-22</th>\n",
       "      <td>2262.443604</td>\n",
       "      <td>2272.727295</td>\n",
       "      <td>2247.489014</td>\n",
       "      <td>2256.317627</td>\n",
       "      <td>2256.317627</td>\n",
       "      <td>0.0</td>\n",
       "      <td>593</td>\n",
       "    </tr>\n",
       "    <tr>\n",
       "      <th>2017-01-18</th>\n",
       "      <td>905.797058</td>\n",
       "      <td>915.750854</td>\n",
       "      <td>851.999207</td>\n",
       "      <td>886.689941</td>\n",
       "      <td>886.689941</td>\n",
       "      <td>0.0</td>\n",
       "      <td>504</td>\n",
       "    </tr>\n",
       "    <tr>\n",
       "      <th>2015-12-29</th>\n",
       "      <td>430.663239</td>\n",
       "      <td>433.839478</td>\n",
       "      <td>428.540833</td>\n",
       "      <td>431.819977</td>\n",
       "      <td>431.819977</td>\n",
       "      <td>0.0</td>\n",
       "      <td>228</td>\n",
       "    </tr>\n",
       "    <tr>\n",
       "      <th>2017-05-04</th>\n",
       "      <td>1532.910156</td>\n",
       "      <td>1569.858643</td>\n",
       "      <td>1495.020874</td>\n",
       "      <td>1552.795044</td>\n",
       "      <td>1552.795044</td>\n",
       "      <td>0.0</td>\n",
       "      <td>581</td>\n",
       "    </tr>\n",
       "  </tbody>\n",
       "</table>\n",
       "</div>"
      ],
      "text/plain": [
       "                   Open         High          Low        Close    Adj Close  \\\n",
       "Date                                                                          \n",
       "2016-04-20          NaN          NaN          NaN          NaN          NaN   \n",
       "2017-05-22  2262.443604  2272.727295  2247.489014  2256.317627  2256.317627   \n",
       "2017-01-18   905.797058   915.750854   851.999207   886.689941   886.689941   \n",
       "2015-12-29   430.663239   433.839478   428.540833   431.819977   431.819977   \n",
       "2017-05-04  1532.910156  1569.858643  1495.020874  1552.795044  1552.795044   \n",
       "\n",
       "            Volume  Ticks  \n",
       "Date                       \n",
       "2016-04-20     NaN    310  \n",
       "2017-05-22     0.0    593  \n",
       "2017-01-18     0.0    504  \n",
       "2015-12-29     0.0    228  \n",
       "2017-05-04     0.0    581  "
      ]
     },
     "execution_count": 91,
     "metadata": {},
     "output_type": "execute_result"
    }
   ],
   "source": [
    "onetenth.tail()\n"
   ]
  },
  {
   "cell_type": "code",
   "execution_count": 92,
   "metadata": {
    "collapsed": true
   },
   "outputs": [],
   "source": [
    "onetenth.index.name = None\n",
    "onetenth = onetenth.sort_values(by=['Ticks'], ascending=[True])"
   ]
  },
  {
   "cell_type": "code",
   "execution_count": 93,
   "metadata": {},
   "outputs": [
    {
     "data": {
      "text/html": [
       "<div>\n",
       "<style>\n",
       "    .dataframe thead tr:only-child th {\n",
       "        text-align: right;\n",
       "    }\n",
       "\n",
       "    .dataframe thead th {\n",
       "        text-align: left;\n",
       "    }\n",
       "\n",
       "    .dataframe tbody tr th {\n",
       "        vertical-align: top;\n",
       "    }\n",
       "</style>\n",
       "<table border=\"1\" class=\"dataframe\">\n",
       "  <thead>\n",
       "    <tr style=\"text-align: right;\">\n",
       "      <th></th>\n",
       "      <th>Open</th>\n",
       "      <th>High</th>\n",
       "      <th>Low</th>\n",
       "      <th>Close</th>\n",
       "      <th>Adj Close</th>\n",
       "      <th>Volume</th>\n",
       "      <th>Ticks</th>\n",
       "    </tr>\n",
       "  </thead>\n",
       "  <tbody>\n",
       "    <tr>\n",
       "      <th>2017-08-01</th>\n",
       "      <td>2688.171875</td>\n",
       "      <td>2695.417725</td>\n",
       "      <td>2680.965332</td>\n",
       "      <td>2695.417725</td>\n",
       "      <td>2695.417725</td>\n",
       "      <td>0.0</td>\n",
       "      <td>644</td>\n",
       "    </tr>\n",
       "    <tr>\n",
       "      <th>2017-08-13</th>\n",
       "      <td>3831.417480</td>\n",
       "      <td>4273.504395</td>\n",
       "      <td>3831.417480</td>\n",
       "      <td>4273.504395</td>\n",
       "      <td>4273.504395</td>\n",
       "      <td>0.0</td>\n",
       "      <td>652</td>\n",
       "    </tr>\n",
       "    <tr>\n",
       "      <th>2017-08-29</th>\n",
       "      <td>4587.155762</td>\n",
       "      <td>4587.155762</td>\n",
       "      <td>4587.155762</td>\n",
       "      <td>4587.155762</td>\n",
       "      <td>4587.155762</td>\n",
       "      <td>0.0</td>\n",
       "      <td>664</td>\n",
       "    </tr>\n",
       "    <tr>\n",
       "      <th>2017-09-10</th>\n",
       "      <td>4329.004395</td>\n",
       "      <td>4347.826172</td>\n",
       "      <td>4201.680664</td>\n",
       "      <td>4219.409180</td>\n",
       "      <td>4219.409180</td>\n",
       "      <td>0.0</td>\n",
       "      <td>672</td>\n",
       "    </tr>\n",
       "    <tr>\n",
       "      <th>2017-09-12</th>\n",
       "      <td>3921.568848</td>\n",
       "      <td>3921.568848</td>\n",
       "      <td>3861.003906</td>\n",
       "      <td>3875.969238</td>\n",
       "      <td>3875.969238</td>\n",
       "      <td>0.0</td>\n",
       "      <td>674</td>\n",
       "    </tr>\n",
       "  </tbody>\n",
       "</table>\n",
       "</div>"
      ],
      "text/plain": [
       "                   Open         High          Low        Close    Adj Close  \\\n",
       "2017-08-01  2688.171875  2695.417725  2680.965332  2695.417725  2695.417725   \n",
       "2017-08-13  3831.417480  4273.504395  3831.417480  4273.504395  4273.504395   \n",
       "2017-08-29  4587.155762  4587.155762  4587.155762  4587.155762  4587.155762   \n",
       "2017-09-10  4329.004395  4347.826172  4201.680664  4219.409180  4219.409180   \n",
       "2017-09-12  3921.568848  3921.568848  3861.003906  3875.969238  3875.969238   \n",
       "\n",
       "            Volume  Ticks  \n",
       "2017-08-01     0.0    644  \n",
       "2017-08-13     0.0    652  \n",
       "2017-08-29     0.0    664  \n",
       "2017-09-10     0.0    672  \n",
       "2017-09-12     0.0    674  "
      ]
     },
     "execution_count": 93,
     "metadata": {},
     "output_type": "execute_result"
    }
   ],
   "source": [
    "onetenth.tail()"
   ]
  },
  {
   "cell_type": "code",
   "execution_count": 94,
   "metadata": {},
   "outputs": [
    {
     "data": {
      "text/plain": [
       "[<matplotlib.lines.Line2D at 0x1f218e65780>]"
      ]
     },
     "execution_count": 94,
     "metadata": {},
     "output_type": "execute_result"
    },
    {
     "data": {
      "image/png": "[encoded data removed]",
      "text/plain": [
       "<matplotlib.figure.Figure at 0x1f218dc99e8>"
      ]
     },
     "metadata": {},
     "output_type": "display_data"
    }
   ],
   "source": [
    "fig = plt.figure(1)\n",
    "ax1 = fig.add_subplot(111)\n",
    "ax1.set_xlabel('Ticks')\n",
    "ax1.set_ylabel('Close')\n",
    "ax1.set_title('Original Plot')\n",
    "ax1.plot('Ticks', 'Close', data = onetenth)"
   ]
  },
  {
   "cell_type": "code",
   "execution_count": 95,
   "metadata": {
    "scrolled": true
   },
   "outputs": [
    {
     "data": {
      "image/png": "[encoded data removed]",
      "text/plain": [
       "<matplotlib.figure.Figure at 0x1f21a700550>"
      ]
     },
     "metadata": {},
     "output_type": "display_data"
    }
   ],
   "source": [
    "fig, axes = plt.subplots(nrows = 1, ncols = 2, figsize = (10,5));\n",
    "axes[0].plot('Ticks', 'Close', data = bitcoin);\n",
    "axes[0].set_title('Original Plot');\n",
    "axes[1].plot('Ticks', 'Close', data = onetenth);\n",
    "axes[1].set_title('Sampled Plot');"
   ]
  },
  {
   "cell_type": "code",
   "execution_count": 96,
   "metadata": {},
   "outputs": [
    {
     "data": {
      "text/html": [
       "<div>\n",
       "<style>\n",
       "    .dataframe thead tr:only-child th {\n",
       "        text-align: right;\n",
       "    }\n",
       "\n",
       "    .dataframe thead th {\n",
       "        text-align: left;\n",
       "    }\n",
       "\n",
       "    .dataframe tbody tr th {\n",
       "        vertical-align: top;\n",
       "    }\n",
       "</style>\n",
       "<table border=\"1\" class=\"dataframe\">\n",
       "  <thead>\n",
       "    <tr style=\"text-align: right;\">\n",
       "      <th></th>\n",
       "      <th>index</th>\n",
       "      <th>Date</th>\n",
       "      <th>Open</th>\n",
       "      <th>High</th>\n",
       "      <th>Low</th>\n",
       "      <th>Close</th>\n",
       "      <th>Adj Close</th>\n",
       "      <th>Volume</th>\n",
       "      <th>Ticks</th>\n",
       "      <th>rolling_mean</th>\n",
       "    </tr>\n",
       "  </thead>\n",
       "  <tbody>\n",
       "    <tr>\n",
       "      <th>674</th>\n",
       "      <td>674</td>\n",
       "      <td>2017-09-12</td>\n",
       "      <td>3921.568848</td>\n",
       "      <td>3921.568848</td>\n",
       "      <td>3861.003906</td>\n",
       "      <td>3875.969238</td>\n",
       "      <td>3875.969238</td>\n",
       "      <td>0.0</td>\n",
       "      <td>674</td>\n",
       "      <td>4367.171973</td>\n",
       "    </tr>\n",
       "    <tr>\n",
       "      <th>675</th>\n",
       "      <td>675</td>\n",
       "      <td>2017-09-13</td>\n",
       "      <td>3311.258301</td>\n",
       "      <td>3322.259277</td>\n",
       "      <td>3236.246094</td>\n",
       "      <td>3236.246094</td>\n",
       "      <td>3236.246094</td>\n",
       "      <td>0.0</td>\n",
       "      <td>675</td>\n",
       "      <td>4313.467041</td>\n",
       "    </tr>\n",
       "    <tr>\n",
       "      <th>676</th>\n",
       "      <td>676</td>\n",
       "      <td>2017-09-14</td>\n",
       "      <td>3311.258301</td>\n",
       "      <td>3460.207764</td>\n",
       "      <td>3067.484619</td>\n",
       "      <td>3105.590088</td>\n",
       "      <td>3105.590088</td>\n",
       "      <td>0.0</td>\n",
       "      <td>676</td>\n",
       "      <td>4263.828504</td>\n",
       "    </tr>\n",
       "  </tbody>\n",
       "</table>\n",
       "</div>"
      ],
      "text/plain": [
       "     index       Date         Open         High          Low        Close  \\\n",
       "674    674 2017-09-12  3921.568848  3921.568848  3861.003906  3875.969238   \n",
       "675    675 2017-09-13  3311.258301  3322.259277  3236.246094  3236.246094   \n",
       "676    676 2017-09-14  3311.258301  3460.207764  3067.484619  3105.590088   \n",
       "\n",
       "       Adj Close  Volume  Ticks  rolling_mean  \n",
       "674  3875.969238     0.0    674   4367.171973  \n",
       "675  3236.246094     0.0    675   4313.467041  \n",
       "676  3105.590088     0.0    676   4263.828504  "
      ]
     },
     "execution_count": 96,
     "metadata": {},
     "output_type": "execute_result"
    }
   ],
   "source": [
    "google = google.reset_index()\n",
    "google.tail(3)"
   ]
  },
  {
   "cell_type": "code",
   "execution_count": 97,
   "metadata": {},
   "outputs": [
    {
     "data": {
      "text/html": [
       "<div>\n",
       "<style>\n",
       "    .dataframe thead tr:only-child th {\n",
       "        text-align: right;\n",
       "    }\n",
       "\n",
       "    .dataframe thead th {\n",
       "        text-align: left;\n",
       "    }\n",
       "\n",
       "    .dataframe tbody tr th {\n",
       "        vertical-align: top;\n",
       "    }\n",
       "</style>\n",
       "<table border=\"1\" class=\"dataframe\">\n",
       "  <thead>\n",
       "    <tr style=\"text-align: right;\">\n",
       "      <th></th>\n",
       "      <th>Open</th>\n",
       "      <th>High</th>\n",
       "      <th>Low</th>\n",
       "      <th>Close</th>\n",
       "      <th>Adj Close</th>\n",
       "      <th>Volume</th>\n",
       "      <th>Ticks</th>\n",
       "      <th>rolling_mean</th>\n",
       "    </tr>\n",
       "    <tr>\n",
       "      <th>Date</th>\n",
       "      <th></th>\n",
       "      <th></th>\n",
       "      <th></th>\n",
       "      <th></th>\n",
       "      <th></th>\n",
       "      <th></th>\n",
       "      <th></th>\n",
       "      <th></th>\n",
       "    </tr>\n",
       "  </thead>\n",
       "  <tbody>\n",
       "    <tr>\n",
       "      <th>2017-09-10</th>\n",
       "      <td>4329.004395</td>\n",
       "      <td>4347.826172</td>\n",
       "      <td>4201.680664</td>\n",
       "      <td>4219.409180</td>\n",
       "      <td>4219.409180</td>\n",
       "      <td>0.0</td>\n",
       "      <td>672</td>\n",
       "      <td>4390.949976</td>\n",
       "    </tr>\n",
       "    <tr>\n",
       "      <th>2017-09-11</th>\n",
       "      <td>4184.100586</td>\n",
       "      <td>4184.100586</td>\n",
       "      <td>4149.377441</td>\n",
       "      <td>4166.666992</td>\n",
       "      <td>4166.666992</td>\n",
       "      <td>0.0</td>\n",
       "      <td>673</td>\n",
       "      <td>4392.671753</td>\n",
       "    </tr>\n",
       "    <tr>\n",
       "      <th>2017-09-12</th>\n",
       "      <td>3921.568848</td>\n",
       "      <td>3921.568848</td>\n",
       "      <td>3861.003906</td>\n",
       "      <td>3875.969238</td>\n",
       "      <td>3875.969238</td>\n",
       "      <td>0.0</td>\n",
       "      <td>674</td>\n",
       "      <td>4367.171973</td>\n",
       "    </tr>\n",
       "    <tr>\n",
       "      <th>2017-09-13</th>\n",
       "      <td>3311.258301</td>\n",
       "      <td>3322.259277</td>\n",
       "      <td>3236.246094</td>\n",
       "      <td>3236.246094</td>\n",
       "      <td>3236.246094</td>\n",
       "      <td>0.0</td>\n",
       "      <td>675</td>\n",
       "      <td>4313.467041</td>\n",
       "    </tr>\n",
       "    <tr>\n",
       "      <th>2017-09-14</th>\n",
       "      <td>3311.258301</td>\n",
       "      <td>3460.207764</td>\n",
       "      <td>3058.104004</td>\n",
       "      <td>3058.104004</td>\n",
       "      <td>3058.104004</td>\n",
       "      <td>0.0</td>\n",
       "      <td>676</td>\n",
       "      <td>4261.454199</td>\n",
       "    </tr>\n",
       "  </tbody>\n",
       "</table>\n",
       "</div>"
      ],
      "text/plain": [
       "                   Open         High          Low        Close    Adj Close  \\\n",
       "Date                                                                          \n",
       "2017-09-10  4329.004395  4347.826172  4201.680664  4219.409180  4219.409180   \n",
       "2017-09-11  4184.100586  4184.100586  4149.377441  4166.666992  4166.666992   \n",
       "2017-09-12  3921.568848  3921.568848  3861.003906  3875.969238  3875.969238   \n",
       "2017-09-13  3311.258301  3322.259277  3236.246094  3236.246094  3236.246094   \n",
       "2017-09-14  3311.258301  3460.207764  3058.104004  3058.104004  3058.104004   \n",
       "\n",
       "            Volume  Ticks  rolling_mean  \n",
       "Date                                     \n",
       "2017-09-10     0.0    672   4390.949976  \n",
       "2017-09-11     0.0    673   4392.671753  \n",
       "2017-09-12     0.0    674   4367.171973  \n",
       "2017-09-13     0.0    675   4313.467041  \n",
       "2017-09-14     0.0    676   4261.454199  "
      ]
     },
     "execution_count": 97,
     "metadata": {},
     "output_type": "execute_result"
    }
   ],
   "source": [
    "bitcoin['rolling_mean'] = bitcoin['Close'].rolling(window=20).mean()\n",
    "bitcoin.tail(5)"
   ]
  },
  {
   "cell_type": "code",
   "execution_count": 98,
   "metadata": {},
   "outputs": [
    {
     "data": {
      "text/plain": [
       "<matplotlib.text.Text at 0x1f21aadecf8>"
      ]
     },
     "execution_count": 98,
     "metadata": {},
     "output_type": "execute_result"
    },
    {
     "data": {
      "image/png": "[encoded data removed]",
      "text/plain": [
       "<matplotlib.figure.Figure at 0x1f21aca9400>"
      ]
     },
     "metadata": {},
     "output_type": "display_data"
    }
   ],
   "source": [
    "fig, axes = plt.subplots(nrows = 1, ncols = 3, figsize = (15,5))\n",
    "axes[0].plot('Ticks','Close',data = bitcoin)\n",
    "axes[0].set_title('Original')\n",
    "axes[1].plot('Ticks','Close',data = onetenth)\n",
    "axes[1].set_title('Sampled')\n",
    "axes[2].plot('Ticks','rolling_mean', data = bitcoin)\n",
    "axes[2].set_title('Rolling Mean')"
   ]
  },
  {
   "cell_type": "code",
   "execution_count": null,
   "metadata": {
    "collapsed": true
   },
   "outputs": [],
   "source": []
  },
  {
   "cell_type": "code",
   "execution_count": null,
   "metadata": {
    "collapsed": true
   },
   "outputs": [],
   "source": []
  }
 ],
 "metadata": {
  "kernelspec": {
   "display_name": "Python [conda env:cryptocurrency-analysis]",
   "language": "python",
   "name": "conda-env-cryptocurrency-analysis-py"
  },
  "language_info": {
   "codemirror_mode": {
    "name": "ipython",
    "version": 3
   },
   "file_extension": ".py",
   "mimetype": "text/x-python",
   "name": "python",
   "nbconvert_exporter": "python",
   "pygments_lexer": "ipython3",
   "version": "3.6.2"
  },
  "widgets": {
   "application/vnd.jupyter.widget-state+json": {
    "state": {},
    "version_major": 1,
    "version_minor": 0
   }
  }
 },
 "nbformat": 4,
 "nbformat_minor": 2
}
